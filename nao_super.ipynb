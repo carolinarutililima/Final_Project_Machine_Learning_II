{
 "cells": [
  {
   "cell_type": "code",
   "execution_count": 1,
   "metadata": {},
   "outputs": [],
   "source": [
    "import pandas as pd\n",
    "import numpy as np\n",
    "import matplotlib.pyplot as plt \n",
    "import seaborn as sns "
   ]
  },
  {
   "cell_type": "code",
   "execution_count": 2,
   "metadata": {},
   "outputs": [
    {
     "name": "stdout",
     "output_type": "stream",
     "text": [
      "               Country ISO3   1961   1962   1963   1964   1965   1966   1967  \\\n",
      "0              Albania  ALB  0.627  0.326  0.075 -0.166 -0.388  0.559 -0.074   \n",
      "1              Algeria  DZA  0.164  0.114  0.077  0.250 -0.100  0.433 -0.026   \n",
      "2       American Samoa  ASM  0.079 -0.042  0.169 -0.140 -0.562  0.181 -0.368   \n",
      "3               Angola  AGO  0.041 -0.152 -0.190 -0.229 -0.196  0.175 -0.081   \n",
      "4  Antigua and Barbuda  ATG  0.090  0.031  0.288  0.214 -0.385  0.097 -0.192   \n",
      "\n",
      "    1968  ...   2017   2018   2019   2020   2021   2022  \\\n",
      "0  0.081  ...  1.121  2.028  1.675  1.498  1.536  1.518   \n",
      "1 -0.067  ...  1.512  1.210  1.115  1.926  2.330  1.688   \n",
      "2 -0.187  ...  1.435  1.189  1.539  1.430  1.268  1.256   \n",
      "3 -0.193  ...  0.870  1.395  1.752  1.162  1.553  1.212   \n",
      "4 -0.225  ...  0.958  0.627  0.797  1.131  0.862  0.770   \n",
      "\n",
      "                   Sub-Region         Income Group  Area (KM²)  Density (KM²)  \n",
      "0       Europe & Central Asia  Upper middle income     28748.0            103  \n",
      "1  Middle East & North Africa  Lower middle income   2381741.0             19  \n",
      "2         East Asia & Pacific          High income       199.0            220  \n",
      "3          Sub-Saharan Africa  Lower middle income   1246700.0             29  \n",
      "4   Latin America & Caribbean          High income       442.0            214  \n",
      "\n",
      "[5 rows x 68 columns]\n"
     ]
    }
   ],
   "source": [
    "# Load CSV file into a DataFrame\n",
    "df = pd.read_csv('new_data.csv')\n",
    "\n",
    "# Display the first few rows of the DataFrame\n",
    "print(df.head())\n"
   ]
  },
  {
   "cell_type": "code",
   "execution_count": null,
   "metadata": {},
   "outputs": [],
   "source": []
  }
 ],
 "metadata": {
  "kernelspec": {
   "display_name": "Python 3",
   "language": "python",
   "name": "python3"
  },
  "language_info": {
   "codemirror_mode": {
    "name": "ipython",
    "version": 3
   },
   "file_extension": ".py",
   "mimetype": "text/x-python",
   "name": "python",
   "nbconvert_exporter": "python",
   "pygments_lexer": "ipython3",
   "version": "3.11.9"
  }
 },
 "nbformat": 4,
 "nbformat_minor": 2
}
