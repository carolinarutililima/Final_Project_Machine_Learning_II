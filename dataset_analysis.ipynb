{
 "cells": [
  {
   "cell_type": "markdown",
   "metadata": {},
   "source": [
    "Dataset sobre aumento da temperatura global de 1961 a 2022 de 141 paises"
   ]
  },
  {
   "cell_type": "code",
   "execution_count": 10,
   "metadata": {},
   "outputs": [],
   "source": [
    "from sklearn import datasets\n",
    "import pandas as pd\n",
    "import seaborn as sns\n",
    "import matplotlib.pyplot as plt"
   ]
  },
  {
   "cell_type": "code",
   "execution_count": 2,
   "metadata": {},
   "outputs": [
    {
     "name": "stdout",
     "output_type": "stream",
     "text": [
      "               Country ISO3  \\\n",
      "0              Albania  ALB   \n",
      "1              Algeria  DZA   \n",
      "2       American Samoa  ASM   \n",
      "3               Angola  AGO   \n",
      "4  Antigua and Barbuda  ATG   \n",
      "\n",
      "                                           Indicator            Unit  \\\n",
      "0  Temperature change with respect to a baseline ...  Degree Celsius   \n",
      "1  Temperature change with respect to a baseline ...  Degree Celsius   \n",
      "2  Temperature change with respect to a baseline ...  Degree Celsius   \n",
      "3  Temperature change with respect to a baseline ...  Degree Celsius   \n",
      "4  Temperature change with respect to a baseline ...  Degree Celsius   \n",
      "\n",
      "                                              Source   1961   1962   1963  \\\n",
      "0  Food and Agriculture Organization of the Unite...  0.627  0.326  0.075   \n",
      "1  Food and Agriculture Organization of the Unite...  0.164  0.114  0.077   \n",
      "2  Food and Agriculture Organization of the Unite...  0.079 -0.042  0.169   \n",
      "3  Food and Agriculture Organization of the Unite...  0.041 -0.152 -0.190   \n",
      "4  Food and Agriculture Organization of the Unite...  0.090  0.031  0.288   \n",
      "\n",
      "    1964   1965  ...   2017   2018   2019   2020   2021   2022  \\\n",
      "0 -0.166 -0.388  ...  1.121  2.028  1.675  1.498  1.536  1.518   \n",
      "1  0.250 -0.100  ...  1.512  1.210  1.115  1.926  2.330  1.688   \n",
      "2 -0.140 -0.562  ...  1.435  1.189  1.539  1.430  1.268  1.256   \n",
      "3 -0.229 -0.196  ...  0.870  1.395  1.752  1.162  1.553  1.212   \n",
      "4  0.214 -0.385  ...  0.958  0.627  0.797  1.131  0.862  0.770   \n",
      "\n",
      "                   Sub-Region         Income Group  Area (KM²)  Density (KM²)  \n",
      "0       Europe & Central Asia  Upper middle income     28748.0            103  \n",
      "1  Middle East & North Africa  Lower middle income   2381741.0             19  \n",
      "2         East Asia & Pacific          High income       199.0            220  \n",
      "3          Sub-Saharan Africa  Lower middle income   1246700.0             29  \n",
      "4   Latin America & Caribbean          High income       442.0            214  \n",
      "\n",
      "[5 rows x 71 columns]\n"
     ]
    }
   ],
   "source": [
    "# Load CSV file into a DataFrame\n",
    "df = pd.read_csv('CC.csv')\n",
    "\n",
    "# Display the first few rows of the DataFrame\n",
    "print(df.head())\n"
   ]
  },
  {
   "cell_type": "code",
   "execution_count": 3,
   "metadata": {},
   "outputs": [
    {
     "data": {
      "text/plain": [
       "(141, 71)"
      ]
     },
     "execution_count": 3,
     "metadata": {},
     "output_type": "execute_result"
    }
   ],
   "source": [
    "df.shape"
   ]
  },
  {
   "cell_type": "code",
   "execution_count": 4,
   "metadata": {},
   "outputs": [
    {
     "name": "stdout",
     "output_type": "stream",
     "text": [
      "<class 'pandas.core.frame.DataFrame'>\n",
      "RangeIndex: 141 entries, 0 to 140\n",
      "Data columns (total 71 columns):\n",
      " #   Column         Non-Null Count  Dtype  \n",
      "---  ------         --------------  -----  \n",
      " 0   Country        141 non-null    object \n",
      " 1   ISO3           141 non-null    object \n",
      " 2   Indicator      141 non-null    object \n",
      " 3   Unit           141 non-null    object \n",
      " 4   Source         141 non-null    object \n",
      " 5   1961           141 non-null    float64\n",
      " 6   1962           141 non-null    float64\n",
      " 7   1963           141 non-null    float64\n",
      " 8   1964           141 non-null    float64\n",
      " 9   1965           141 non-null    float64\n",
      " 10  1966           141 non-null    float64\n",
      " 11  1967           141 non-null    float64\n",
      " 12  1968           141 non-null    float64\n",
      " 13  1969           141 non-null    float64\n",
      " 14  1970           141 non-null    float64\n",
      " 15  1971           141 non-null    float64\n",
      " 16  1972           141 non-null    float64\n",
      " 17  1973           141 non-null    float64\n",
      " 18  1974           141 non-null    float64\n",
      " 19  1975           141 non-null    float64\n",
      " 20  1976           141 non-null    float64\n",
      " 21  1977           141 non-null    float64\n",
      " 22  1978           141 non-null    float64\n",
      " 23  1979           141 non-null    float64\n",
      " 24  1980           141 non-null    float64\n",
      " 25  1981           141 non-null    float64\n",
      " 26  1982           141 non-null    float64\n",
      " 27  1983           141 non-null    float64\n",
      " 28  1984           141 non-null    float64\n",
      " 29  1985           141 non-null    float64\n",
      " 30  1986           141 non-null    float64\n",
      " 31  1987           141 non-null    float64\n",
      " 32  1988           141 non-null    float64\n",
      " 33  1989           141 non-null    float64\n",
      " 34  1990           141 non-null    float64\n",
      " 35  1991           141 non-null    float64\n",
      " 36  1992           141 non-null    float64\n",
      " 37  1993           141 non-null    float64\n",
      " 38  1994           141 non-null    float64\n",
      " 39  1995           141 non-null    float64\n",
      " 40  1996           141 non-null    float64\n",
      " 41  1997           141 non-null    float64\n",
      " 42  1998           141 non-null    float64\n",
      " 43  1999           141 non-null    float64\n",
      " 44  2000           141 non-null    float64\n",
      " 45  2001           141 non-null    float64\n",
      " 46  2002           141 non-null    float64\n",
      " 47  2003           141 non-null    float64\n",
      " 48  2004           141 non-null    float64\n",
      " 49  2005           141 non-null    float64\n",
      " 50  2006           141 non-null    float64\n",
      " 51  2007           141 non-null    float64\n",
      " 52  2008           141 non-null    float64\n",
      " 53  2009           141 non-null    float64\n",
      " 54  2010           141 non-null    float64\n",
      " 55  2011           141 non-null    float64\n",
      " 56  2012           141 non-null    float64\n",
      " 57  2013           141 non-null    float64\n",
      " 58  2014           141 non-null    float64\n",
      " 59  2015           141 non-null    float64\n",
      " 60  2016           141 non-null    float64\n",
      " 61  2017           141 non-null    float64\n",
      " 62  2018           141 non-null    float64\n",
      " 63  2019           141 non-null    float64\n",
      " 64  2020           141 non-null    float64\n",
      " 65  2021           141 non-null    float64\n",
      " 66  2022           141 non-null    float64\n",
      " 67  Sub-Region     141 non-null    object \n",
      " 68  Income Group   141 non-null    object \n",
      " 69  Area (KM²)     141 non-null    float64\n",
      " 70  Density (KM²)  141 non-null    int64  \n",
      "dtypes: float64(63), int64(1), object(7)\n",
      "memory usage: 78.3+ KB\n"
     ]
    }
   ],
   "source": [
    "df.info()"
   ]
  },
  {
   "cell_type": "code",
   "execution_count": 5,
   "metadata": {},
   "outputs": [
    {
     "data": {
      "text/plain": [
       "Country           ISO3  Indicator                                                                                         Unit            Source                                                                                                                                                                                                                                               1961    1962    1963    1964    1965    1966    1967    1968    1969    1970    1971    1972    1973    1974    1975    1976    1977    1978    1979    1980    1981    1982    1983    1984    1985    1986    1987    1988   1989    1990   1991    1992    1993    1994    1995    1996    1997    1998   1999   2000    2001   2002   2003   2004    2005   2006    2007   2008   2009    2010   2011   2012   2013   2014   2015   2016   2017   2018   2019   2020   2021    2022    Sub-Region                  Income Group         Area (KM²)  Density (KM²)\n",
       "Albania           ALB   Temperature change with respect to a baseline climatology, corresponding to the period 1951-1980  Degree Celsius  Food and Agriculture Organization of the United Nations (FAO). 2022. FAOSTAT Climate Change, Climate Indicators, Temperature change. License: CC BY-NC-SA 3.0 IGO. Extracted from: https://www.fao.org/faostat/en/#data/ET. Accessed on 2023-03-28.   0.627   0.326   0.075  -0.166  -0.388   0.559  -0.074   0.081  -0.013  -0.106  -0.195  -0.069  -0.288  -0.139  -0.211  -0.683   0.545  -0.814   0.203  -0.414  -0.351   0.173  -0.128  -0.270  -0.103   0.569  -0.106  0.370  -0.066  0.795  -0.269   0.106   0.076   1.330  -0.172  -0.038   0.075  0.795  0.670   1.065  1.532  0.492  0.970   0.444  0.189   0.345  1.316  0.978   0.910  1.191  1.055  1.487  1.333  1.198  1.569  1.464  1.121  2.028  1.675  1.498   1.536   1.518  Europe & Central Asia       Upper middle income  28748.0     103              1\n",
       "Oman              OMN   Temperature change with respect to a baseline climatology, corresponding to the period 1951-1980  Degree Celsius  Food and Agriculture Organization of the United Nations (FAO). 2022. FAOSTAT Climate Change, Climate Indicators, Temperature change. License: CC BY-NC-SA 3.0 IGO. Extracted from: https://www.fao.org/faostat/en/#data/ET. Accessed on 2023-03-28.  -0.274   0.338   0.393  -0.478  -0.315   0.180   0.034  -0.614   0.247   0.855   0.080  -0.100  -0.172  -0.137  -0.225   0.221   0.575   0.138   0.138  -0.020   0.223  -0.418  -0.698  -0.706  -0.104  -0.042   0.070  0.201  -0.347  0.061  -0.304  -0.550   0.247   0.126  -0.018  -0.114  -0.227  0.745  0.578   0.554  0.661  0.891  0.838   0.778  0.814   0.838  0.652  0.537   0.728  1.104  0.840  0.754  0.473  0.485  1.213  0.933  1.421  1.121  0.890  0.496   1.329   1.055  Middle East & North Africa  High income          309500.0    15               1\n",
       "New Caledonia     NCL   Temperature change with respect to a baseline climatology, corresponding to the period 1951-1980  Degree Celsius  Food and Agriculture Organization of the United Nations (FAO). 2022. FAOSTAT Climate Change, Climate Indicators, Temperature change. License: CC BY-NC-SA 3.0 IGO. Extracted from: https://www.fao.org/faostat/en/#data/ET. Accessed on 2023-03-28.  -0.248   0.081  -0.211   0.164  -0.806  -0.638   0.032  -0.429  -0.167   0.454   0.128  -0.207   0.799   0.293   0.230   0.155   0.159   0.292   0.208   0.421   0.377   0.194   0.692   0.328   0.509   0.366   0.069  1.050   0.479  0.764   0.350   0.467   0.270   0.228   1.010   1.204   0.549  2.002  1.229   0.759  1.027  1.030  0.788   0.913  0.762   0.683  1.146  1.129   0.909  1.254  1.022  0.870  1.026  1.005  1.215  2.026  1.768  1.384  1.303  1.764   1.689   2.421  East Asia & Pacific         High income          18575.0     16               1\n",
       "New Zealand       NZL   Temperature change with respect to a baseline climatology, corresponding to the period 1951-1980  Degree Celsius  Food and Agriculture Organization of the United Nations (FAO). 2022. FAOSTAT Climate Change, Climate Indicators, Temperature change. License: CC BY-NC-SA 3.0 IGO. Extracted from: https://www.fao.org/faostat/en/#data/ET. Accessed on 2023-03-28.  -0.282   0.581  -0.356  -0.455  -0.451  -0.233  -0.184  -0.086  -0.374   0.596   0.684   0.119   0.196   0.363   0.588  -0.510  -0.388   0.387   0.316   0.007   0.427  -0.062  -0.294   0.174   0.398   0.382   0.397  0.488   0.736  0.572  -0.028  -0.716  -0.380  -0.077   0.108   0.244  -0.128  0.981  1.009   0.265  0.572  0.420  0.238   0.033  0.443   0.391  0.237  0.564   0.059  0.598  0.673  0.125  0.999  0.544  0.568  1.214  0.627  1.173  1.118  0.912   0.982   1.319  East Asia & Pacific         High income          270467.0    20               1\n",
       "Nicaragua         NIC   Temperature change with respect to a baseline climatology, corresponding to the period 1951-1980  Degree Celsius  Food and Agriculture Organization of the United Nations (FAO). 2022. FAOSTAT Climate Change, Climate Indicators, Temperature change. License: CC BY-NC-SA 3.0 IGO. Extracted from: https://www.fao.org/faostat/en/#data/ET. Accessed on 2023-03-28.  -0.089  -0.329  -0.203  -0.107   0.041   0.185  -0.269  -0.235   0.291  -0.206  -0.293   0.163   0.434  -0.252   0.061  -0.072   0.269   0.205   0.177   0.511   0.255   0.659   0.786   0.040   0.107   0.171   0.422  0.505   0.158  0.350   0.497   0.487   0.317   0.707   0.898   0.077   0.808  1.087  0.169   0.142  0.502  0.790  0.738   0.576  0.841   0.707  0.844  0.567   0.821  0.868  0.695  0.683  1.201  0.802  1.018  1.315  1.025  0.900  1.161  1.526   1.026   0.842  Latin America & Caribbean   Lower middle income  130373.0    59               1\n",
       "                                                                                                                                                                                                                                                                                                                                                                                                                                                                                                                                                                                                                                                                                                                                                                                                                                                                                                                                                                       ..\n",
       "Gabon             GAB   Temperature change with respect to a baseline climatology, corresponding to the period 1951-1980  Degree Celsius  Food and Agriculture Organization of the United Nations (FAO). 2022. FAOSTAT Climate Change, Climate Indicators, Temperature change. License: CC BY-NC-SA 3.0 IGO. Extracted from: https://www.fao.org/faostat/en/#data/ET. Accessed on 2023-03-28.  -0.139  -0.063   0.232  -0.148  -0.164   0.140  -0.127  -0.138   0.110   0.142  -0.053  -0.064   0.468  -0.084  -0.126  -0.335   0.185   0.069   0.385   0.307  -0.176  -0.374   0.174   0.204  -0.219  -0.126   0.272  0.232  -0.023  0.124   0.081  -0.166   0.190   0.187   0.582   0.104   0.292  1.119  0.589   0.307  0.286  0.662  0.893   0.831  0.808   0.737  0.926  0.782   0.824  1.080  0.657  0.615  0.794  0.805  1.024  1.505  1.353  1.026  1.534  1.377   1.063   0.994  Sub-Saharan Africa          Upper middle income  267668.0    9                1\n",
       "French Polynesia  PYF   Temperature change with respect to a baseline climatology, corresponding to the period 1951-1980  Degree Celsius  Food and Agriculture Organization of the United Nations (FAO). 2022. FAOSTAT Climate Change, Climate Indicators, Temperature change. License: CC BY-NC-SA 3.0 IGO. Extracted from: https://www.fao.org/faostat/en/#data/ET. Accessed on 2023-03-28.   0.207  -0.046   0.037  -0.137  -0.083   0.081  -0.274  -0.516   0.301   0.182  -0.342   0.119   0.325  -0.342  -0.247  -0.250   0.243  -0.074   0.105   0.225   0.132   0.323   0.189   0.412   0.154   0.278   0.478  0.356   0.159  0.397   0.341   0.352   0.141   0.543   0.582   0.188   0.335  0.633  0.456   0.329  0.502  0.796  0.703   0.531  0.672   0.841  0.850  0.357   0.800  0.760  0.214  0.722  0.536  0.616  0.681  1.127  0.901  0.631  0.857  0.829   0.791   0.359  East Asia & Pacific         High income          4167.0      89               1\n",
       "France            FRA   Temperature change with respect to a baseline climatology, corresponding to the period 1951-1980  Degree Celsius  Food and Agriculture Organization of the United Nations (FAO). 2022. FAOSTAT Climate Change, Climate Indicators, Temperature change. License: CC BY-NC-SA 3.0 IGO. Extracted from: https://www.fao.org/faostat/en/#data/ET. Accessed on 2023-03-28.   0.827  -0.301  -0.955   0.025  -0.625   0.421   0.494  -0.073   0.024  -0.092  -0.161  -0.325   0.059  -0.081   0.483   0.368   0.015  -0.216  -0.187  -0.217   0.097   0.812   0.721  -0.082  -0.338  -0.003   0.001  0.773   1.278  1.591   0.257   0.659   0.325   1.547   1.326   0.188   1.240  0.947  1.199   1.175  1.391  1.054  1.800   0.969  1.020   1.306  1.407  0.992   1.212  0.395  1.534  1.220  0.714  2.049  1.612  1.794  1.796  2.060  2.023  2.551   1.337   2.929  Europe & Central Asia       High income          551695.0    118              1\n",
       "Finland           FIN   Temperature change with respect to a baseline climatology, corresponding to the period 1951-1980  Degree Celsius  Food and Agriculture Organization of the United Nations (FAO). 2022. FAOSTAT Climate Change, Climate Indicators, Temperature change. License: CC BY-NC-SA 3.0 IGO. Extracted from: https://www.fao.org/faostat/en/#data/ET. Accessed on 2023-03-28.   1.892  -0.339  -0.401   0.338  -0.263  -1.801   1.088  -1.634  -0.478  -0.629  -0.452   0.933   1.138   1.121   1.893  -0.877  -0.227  -0.526  -0.755  -0.380  -0.240  -0.155   0.964   0.757  -1.177  -0.181  -1.652  0.579   2.179  1.249   1.138   1.165   0.937   0.146   1.701   0.137   0.783  0.071  1.159   2.024  1.365  1.171  0.713   1.233  2.201   1.204  1.946  2.130   1.695  0.242  1.354  1.540  1.424  2.591  2.613  2.151  1.487  2.157  1.452  3.317   1.938   2.062  Europe & Central Asia       High income          338424.0    18               1\n",
       "Zimbabwe          ZWE   Temperature change with respect to a baseline climatology, corresponding to the period 1951-1980  Degree Celsius  Food and Agriculture Organization of the United Nations (FAO). 2022. FAOSTAT Climate Change, Climate Indicators, Temperature change. License: CC BY-NC-SA 3.0 IGO. Extracted from: https://www.fao.org/faostat/en/#data/ET. Accessed on 2023-03-28.   0.267   0.237  -0.458  -0.097  -0.480   0.215  -0.043   0.093   0.215   0.421  -0.052  -0.397   0.601  -0.485  -0.262  -0.436   0.433  -0.016   0.189  -0.024  -0.360   0.170   1.223   0.483   0.027   0.025   1.070  0.447   0.181  0.567   0.192   1.010   0.300  -0.085   0.685  -0.247  -0.025  0.801  0.030  -0.417  0.004  0.487  0.355  -0.004  0.945  -0.260  0.127  0.078  -0.226  0.935  0.232  0.334  0.118  0.025  0.970  1.270  0.088  0.453  0.925  0.389  -0.125  -0.490  Sub-Saharan Africa          Lower middle income  390757.0    43               1\n",
       "Name: count, Length: 141, dtype: int64"
      ]
     },
     "execution_count": 5,
     "metadata": {},
     "output_type": "execute_result"
    }
   ],
   "source": [
    "df.value_counts()"
   ]
  },
  {
   "cell_type": "code",
   "execution_count": 6,
   "metadata": {},
   "outputs": [
    {
     "data": {
      "text/plain": [
       "Unit\n",
       "Degree Celsius    141\n",
       "Name: count, dtype: int64"
      ]
     },
     "execution_count": 6,
     "metadata": {},
     "output_type": "execute_result"
    }
   ],
   "source": [
    "df['Unit'].value_counts()"
   ]
  },
  {
   "cell_type": "code",
   "execution_count": 7,
   "metadata": {},
   "outputs": [
    {
     "data": {
      "text/plain": [
       "Indicator\n",
       "Temperature change with respect to a baseline climatology, corresponding to the period 1951-1980    141\n",
       "Name: count, dtype: int64"
      ]
     },
     "execution_count": 7,
     "metadata": {},
     "output_type": "execute_result"
    }
   ],
   "source": [
    "df['Indicator'].value_counts()"
   ]
  },
  {
   "cell_type": "code",
   "execution_count": 8,
   "metadata": {},
   "outputs": [
    {
     "data": {
      "text/plain": [
       "Source\n",
       "Food and Agriculture Organization of the United Nations (FAO). 2022. FAOSTAT Climate Change, Climate Indicators, Temperature change. License: CC BY-NC-SA 3.0 IGO. Extracted from: https://www.fao.org/faostat/en/#data/ET. Accessed on 2023-03-28.    141\n",
       "Name: count, dtype: int64"
      ]
     },
     "execution_count": 8,
     "metadata": {},
     "output_type": "execute_result"
    }
   ],
   "source": [
    "df['Source'].value_counts()"
   ]
  },
  {
   "cell_type": "markdown",
   "metadata": {},
   "source": [
    " Vamos remover essas 3 colunas que sao iguais para todos os dados"
   ]
  },
  {
   "cell_type": "code",
   "execution_count": 11,
   "metadata": {},
   "outputs": [],
   "source": [
    "# Drop the column named 'column_to_drop' in place\n",
    "df.drop(columns=['Source','Indicator','Unit' ], inplace=True)"
   ]
  },
  {
   "cell_type": "code",
   "execution_count": 12,
   "metadata": {},
   "outputs": [
    {
     "data": {
      "text/html": [
       "<div>\n",
       "<style scoped>\n",
       "    .dataframe tbody tr th:only-of-type {\n",
       "        vertical-align: middle;\n",
       "    }\n",
       "\n",
       "    .dataframe tbody tr th {\n",
       "        vertical-align: top;\n",
       "    }\n",
       "\n",
       "    .dataframe thead th {\n",
       "        text-align: right;\n",
       "    }\n",
       "</style>\n",
       "<table border=\"1\" class=\"dataframe\">\n",
       "  <thead>\n",
       "    <tr style=\"text-align: right;\">\n",
       "      <th></th>\n",
       "      <th>Country</th>\n",
       "      <th>ISO3</th>\n",
       "      <th>1961</th>\n",
       "      <th>1962</th>\n",
       "      <th>1963</th>\n",
       "      <th>1964</th>\n",
       "      <th>1965</th>\n",
       "      <th>1966</th>\n",
       "      <th>1967</th>\n",
       "      <th>1968</th>\n",
       "      <th>...</th>\n",
       "      <th>2017</th>\n",
       "      <th>2018</th>\n",
       "      <th>2019</th>\n",
       "      <th>2020</th>\n",
       "      <th>2021</th>\n",
       "      <th>2022</th>\n",
       "      <th>Sub-Region</th>\n",
       "      <th>Income Group</th>\n",
       "      <th>Area (KM²)</th>\n",
       "      <th>Density (KM²)</th>\n",
       "    </tr>\n",
       "  </thead>\n",
       "  <tbody>\n",
       "    <tr>\n",
       "      <th>0</th>\n",
       "      <td>Albania</td>\n",
       "      <td>ALB</td>\n",
       "      <td>0.627</td>\n",
       "      <td>0.326</td>\n",
       "      <td>0.075</td>\n",
       "      <td>-0.166</td>\n",
       "      <td>-0.388</td>\n",
       "      <td>0.559</td>\n",
       "      <td>-0.074</td>\n",
       "      <td>0.081</td>\n",
       "      <td>...</td>\n",
       "      <td>1.121</td>\n",
       "      <td>2.028</td>\n",
       "      <td>1.675</td>\n",
       "      <td>1.498</td>\n",
       "      <td>1.536</td>\n",
       "      <td>1.518</td>\n",
       "      <td>Europe &amp; Central Asia</td>\n",
       "      <td>Upper middle income</td>\n",
       "      <td>28748.0</td>\n",
       "      <td>103</td>\n",
       "    </tr>\n",
       "    <tr>\n",
       "      <th>1</th>\n",
       "      <td>Algeria</td>\n",
       "      <td>DZA</td>\n",
       "      <td>0.164</td>\n",
       "      <td>0.114</td>\n",
       "      <td>0.077</td>\n",
       "      <td>0.250</td>\n",
       "      <td>-0.100</td>\n",
       "      <td>0.433</td>\n",
       "      <td>-0.026</td>\n",
       "      <td>-0.067</td>\n",
       "      <td>...</td>\n",
       "      <td>1.512</td>\n",
       "      <td>1.210</td>\n",
       "      <td>1.115</td>\n",
       "      <td>1.926</td>\n",
       "      <td>2.330</td>\n",
       "      <td>1.688</td>\n",
       "      <td>Middle East &amp; North Africa</td>\n",
       "      <td>Lower middle income</td>\n",
       "      <td>2381741.0</td>\n",
       "      <td>19</td>\n",
       "    </tr>\n",
       "    <tr>\n",
       "      <th>2</th>\n",
       "      <td>American Samoa</td>\n",
       "      <td>ASM</td>\n",
       "      <td>0.079</td>\n",
       "      <td>-0.042</td>\n",
       "      <td>0.169</td>\n",
       "      <td>-0.140</td>\n",
       "      <td>-0.562</td>\n",
       "      <td>0.181</td>\n",
       "      <td>-0.368</td>\n",
       "      <td>-0.187</td>\n",
       "      <td>...</td>\n",
       "      <td>1.435</td>\n",
       "      <td>1.189</td>\n",
       "      <td>1.539</td>\n",
       "      <td>1.430</td>\n",
       "      <td>1.268</td>\n",
       "      <td>1.256</td>\n",
       "      <td>East Asia &amp; Pacific</td>\n",
       "      <td>High income</td>\n",
       "      <td>199.0</td>\n",
       "      <td>220</td>\n",
       "    </tr>\n",
       "    <tr>\n",
       "      <th>3</th>\n",
       "      <td>Angola</td>\n",
       "      <td>AGO</td>\n",
       "      <td>0.041</td>\n",
       "      <td>-0.152</td>\n",
       "      <td>-0.190</td>\n",
       "      <td>-0.229</td>\n",
       "      <td>-0.196</td>\n",
       "      <td>0.175</td>\n",
       "      <td>-0.081</td>\n",
       "      <td>-0.193</td>\n",
       "      <td>...</td>\n",
       "      <td>0.870</td>\n",
       "      <td>1.395</td>\n",
       "      <td>1.752</td>\n",
       "      <td>1.162</td>\n",
       "      <td>1.553</td>\n",
       "      <td>1.212</td>\n",
       "      <td>Sub-Saharan Africa</td>\n",
       "      <td>Lower middle income</td>\n",
       "      <td>1246700.0</td>\n",
       "      <td>29</td>\n",
       "    </tr>\n",
       "    <tr>\n",
       "      <th>4</th>\n",
       "      <td>Antigua and Barbuda</td>\n",
       "      <td>ATG</td>\n",
       "      <td>0.090</td>\n",
       "      <td>0.031</td>\n",
       "      <td>0.288</td>\n",
       "      <td>0.214</td>\n",
       "      <td>-0.385</td>\n",
       "      <td>0.097</td>\n",
       "      <td>-0.192</td>\n",
       "      <td>-0.225</td>\n",
       "      <td>...</td>\n",
       "      <td>0.958</td>\n",
       "      <td>0.627</td>\n",
       "      <td>0.797</td>\n",
       "      <td>1.131</td>\n",
       "      <td>0.862</td>\n",
       "      <td>0.770</td>\n",
       "      <td>Latin America &amp; Caribbean</td>\n",
       "      <td>High income</td>\n",
       "      <td>442.0</td>\n",
       "      <td>214</td>\n",
       "    </tr>\n",
       "  </tbody>\n",
       "</table>\n",
       "<p>5 rows × 68 columns</p>\n",
       "</div>"
      ],
      "text/plain": [
       "               Country ISO3   1961   1962   1963   1964   1965   1966   1967  \\\n",
       "0              Albania  ALB  0.627  0.326  0.075 -0.166 -0.388  0.559 -0.074   \n",
       "1              Algeria  DZA  0.164  0.114  0.077  0.250 -0.100  0.433 -0.026   \n",
       "2       American Samoa  ASM  0.079 -0.042  0.169 -0.140 -0.562  0.181 -0.368   \n",
       "3               Angola  AGO  0.041 -0.152 -0.190 -0.229 -0.196  0.175 -0.081   \n",
       "4  Antigua and Barbuda  ATG  0.090  0.031  0.288  0.214 -0.385  0.097 -0.192   \n",
       "\n",
       "    1968  ...   2017   2018   2019   2020   2021   2022  \\\n",
       "0  0.081  ...  1.121  2.028  1.675  1.498  1.536  1.518   \n",
       "1 -0.067  ...  1.512  1.210  1.115  1.926  2.330  1.688   \n",
       "2 -0.187  ...  1.435  1.189  1.539  1.430  1.268  1.256   \n",
       "3 -0.193  ...  0.870  1.395  1.752  1.162  1.553  1.212   \n",
       "4 -0.225  ...  0.958  0.627  0.797  1.131  0.862  0.770   \n",
       "\n",
       "                   Sub-Region         Income Group  Area (KM²)  Density (KM²)  \n",
       "0       Europe & Central Asia  Upper middle income     28748.0            103  \n",
       "1  Middle East & North Africa  Lower middle income   2381741.0             19  \n",
       "2         East Asia & Pacific          High income       199.0            220  \n",
       "3          Sub-Saharan Africa  Lower middle income   1246700.0             29  \n",
       "4   Latin America & Caribbean          High income       442.0            214  \n",
       "\n",
       "[5 rows x 68 columns]"
      ]
     },
     "execution_count": 12,
     "metadata": {},
     "output_type": "execute_result"
    }
   ],
   "source": [
    "df.head()"
   ]
  },
  {
   "cell_type": "code",
   "execution_count": 13,
   "metadata": {},
   "outputs": [],
   "source": [
    "# Save the modified DataFrame to a new CSV file\n",
    "df.to_csv('new_data.csv', index=False)"
   ]
  },
  {
   "cell_type": "code",
   "execution_count": null,
   "metadata": {},
   "outputs": [],
   "source": []
  }
 ],
 "metadata": {
  "kernelspec": {
   "display_name": "Python 3",
   "language": "python",
   "name": "python3"
  },
  "language_info": {
   "codemirror_mode": {
    "name": "ipython",
    "version": 3
   },
   "file_extension": ".py",
   "mimetype": "text/x-python",
   "name": "python",
   "nbconvert_exporter": "python",
   "pygments_lexer": "ipython3",
   "version": "3.11.9"
  }
 },
 "nbformat": 4,
 "nbformat_minor": 2
}
